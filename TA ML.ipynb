{
 "cells": [
  {
   "cell_type": "code",
   "execution_count": 1,
   "metadata": {},
   "outputs": [],
   "source": [
    "import json\n",
    "import pandas as pd\n",
    "import os\n",
    "from pprint import pprint\n",
    "import re\n",
    "import pickle\n"
   ]
  },
  {
   "cell_type": "code",
   "execution_count": null,
   "metadata": {},
   "outputs": [],
   "source": [
    "## Preprosamiento previo. De un gran dataset escogemos 5 subreddits para hacer el analisis grupal e individual\n",
    "## League of legends"
   ]
  },
  {
   "cell_type": "code",
   "execution_count": 5,
   "metadata": {},
   "outputs": [
    {
     "name": "stdout",
     "output_type": "stream",
     "text": [
      "{\"author\":\"RPClipsBot\",\"author_flair_css_class\":\"Bot\",\"author_flair_text\":\"\",\"body\":\"Author: theatrama\\n\\nScore: 1\\n\\nText:\\n\\nYou do realize the VOD is available for anyone to watch to see that this is completely fabricated nonsense, right? You tried to create drama in chat, got banned for talking shit, and now you come crying to Reddit... I mean, really?\\n\\nFull information:\\n\\nComment {getApprovedBy()=\\\"\"\"\\\", getAuthor()=\\\"theatrama\\\", getAuthorFlair()=\\\"\"\"\\\", getBannedBy()=\\\"\"\"\\\", getBody()=\\\"You do realize the VOD is available for anyone to watch to see that this is completely fabricated nonsense, right? You tried to create drama in chat, got banned for talking shit, and now you come crying to Reddit... I mean, really?\\\", getCreated()=\\\"Tue Jan 09 23:59:56 UTC 2018\\\", getDistinguishedStatus()=\\\"NORMAL\\\", getEditDate()=\\\"\"\"\\\", getFullName()=\\\"t1_dsfynoq\\\", getId()=\\\"dsfynoq\\\", getModeratorReports()=\\\"{}\\\", getParentId()=\\\"t3_7pbey2\\\", getRemovalReason()=\\\"\"\"\\\", getReportCount()=\\\"\"\"\\\", getScore()=\\\"1\\\", getSubmissionAuthor()=\\\"Spider__Jerusalem\\\", getSubmissionId()=\\\"t3_7pbey2\\\", getSubmissionTitle()=\\\"The Family RP: A Place for Meta Role-Players to Have Power Trips...\\\", getSubredditId()=\\\"t5_3onkg\\\", getSubredditName()=\\\"RPClipsGTA\\\", getTimesGilded()=\\\"0\\\", getUrl()=\\\"https://www.reddit.com/r/RPClipsGTA/comments/7pbey2/the_family_rp_a_place_for_meta_roleplayers_to/\\\", getUserReports()=\\\"{}\\\", getVote()=\\\"NO_VOTE\\\", hasBeenEdited()=\\\"false\\\", isArchived()=\\\"false\\\", isControversial()=\\\"false\\\", isSaved()=\\\"false\\\", isScoreHidden()=\\\"false\\\"}\",\"can_gild\":true,\"controversiality\":0,\"created_utc\":1515542444,\"distinguished\":\"\",\"edited\":false,\"gilded\":0,\"id\":\"dsfypd0\",\"is_submitter\":true,\"link_id\":\"t3_7pbf2h\",\"parent_id\":\"t1_dsfymf4\",\"permalink\":\"/r/TwitchRPDrama/comments/7pbf2h/archive_rrpclipsgta_7pbey2_the_family_rp_a_place/dsfypd0/\",\"retrieved_on\":1517734834,\"score\":1,\"stickied\":false,\"subreddit\":\"TwitchRPDrama\",\"subreddit_id\":\"t5_3pmtw\",\"subreddit_type\":\"public\"}\n",
      "1956\n"
     ]
    }
   ],
   "source": [
    "import json\n",
    "\n",
    "file_name = 'sample_data.json'\n",
    "main_df = pd.read_json(file_name,lines = True)\n",
    "data_directory = \".\\data\";\n",
    "df = pd.DataFrame()\n",
    "for filename in os.listdir(data_directory):        \n",
    "    lines = [line.rstrip('\\n') for line in open(data_directory + r\"\\\\\" + filename)]    \n",
    "    jsons_array = []\n",
    "    i = 0\n",
    "    for line in lines:        \n",
    "        line = line.replace(\"null\", \"\\\"\\\"\")                \n",
    "        json_string = line\n",
    "        try:                                  \n",
    "            jsons_array.append(json.loads(json_string))           \n",
    "        except:\n",
    "            print(json_string)\n",
    "            print(i)\n",
    "            break\n",
    "        i += 1        \n",
    "    df = pd.DataFrame.from_dict(jsons_array, orient='columns')    \n",
    "    break\n",
    "    "
   ]
  },
  {
   "cell_type": "markdown",
   "metadata": {},
   "source": [
    "## Analizamos la data. Limpiamos y preprocesamos"
   ]
  },
  {
   "cell_type": "code",
   "execution_count": 31,
   "metadata": {},
   "outputs": [
    {
     "data": {
      "text/plain": [
       "(16, 21)"
      ]
     },
     "execution_count": 31,
     "metadata": {},
     "output_type": "execute_result"
    }
   ],
   "source": [
    "df.shape"
   ]
  },
  {
   "cell_type": "code",
   "execution_count": 28,
   "metadata": {},
   "outputs": [
    {
     "data": {
      "text/plain": [
       "subreddit\n",
       "AskAnAmerican           1\n",
       "CFB                     1\n",
       "ChoosingBeggars         1\n",
       "GlobalOffensive         1\n",
       "Metaverse_Blockchain    1\n",
       "NintendoSwitch          1\n",
       "Overwatch               1\n",
       "RightwingLGBT           1\n",
       "WorldOfWarships         1\n",
       "YouShouldKnow           1\n",
       "conspiracy              1\n",
       "movies                  1\n",
       "nba                     1\n",
       "pics                    1\n",
       "tipofmytongue           1\n",
       "whitesox                1\n",
       "dtype: int64"
      ]
     },
     "execution_count": 28,
     "metadata": {},
     "output_type": "execute_result"
    }
   ],
   "source": [
    "df.groupby('subreddit').size()"
   ]
  },
  {
   "cell_type": "code",
   "execution_count": 2,
   "metadata": {},
   "outputs": [
    {
     "data": {
      "text/html": [
       "<div>\n",
       "<style scoped>\n",
       "    .dataframe tbody tr th:only-of-type {\n",
       "        vertical-align: middle;\n",
       "    }\n",
       "\n",
       "    .dataframe tbody tr th {\n",
       "        vertical-align: top;\n",
       "    }\n",
       "\n",
       "    .dataframe thead th {\n",
       "        text-align: right;\n",
       "    }\n",
       "</style>\n",
       "<table border=\"1\" class=\"dataframe\">\n",
       "  <thead>\n",
       "    <tr style=\"text-align: right;\">\n",
       "      <th></th>\n",
       "      <th>author</th>\n",
       "      <th>author_cakeday</th>\n",
       "      <th>author_flair_css_class</th>\n",
       "      <th>author_flair_text</th>\n",
       "      <th>body</th>\n",
       "      <th>can_gild</th>\n",
       "      <th>controversiality</th>\n",
       "      <th>created_utc</th>\n",
       "      <th>distinguished</th>\n",
       "      <th>edited</th>\n",
       "      <th>...</th>\n",
       "      <th>id</th>\n",
       "      <th>is_submitter</th>\n",
       "      <th>link_id</th>\n",
       "      <th>parent_id</th>\n",
       "      <th>permalink</th>\n",
       "      <th>retrieved_on</th>\n",
       "      <th>score</th>\n",
       "      <th>stickied</th>\n",
       "      <th>subreddit</th>\n",
       "      <th>subreddit_id</th>\n",
       "    </tr>\n",
       "  </thead>\n",
       "  <tbody>\n",
       "    <tr>\n",
       "      <th>0</th>\n",
       "      <td>Dethcola</td>\n",
       "      <td>NaN</td>\n",
       "      <td></td>\n",
       "      <td>Clairemont</td>\n",
       "      <td>A quarry</td>\n",
       "      <td>True</td>\n",
       "      <td>0</td>\n",
       "      <td>1506816000</td>\n",
       "      <td>None</td>\n",
       "      <td>0</td>\n",
       "      <td>...</td>\n",
       "      <td>dnqik14</td>\n",
       "      <td>False</td>\n",
       "      <td>t3_73ieyz</td>\n",
       "      <td>t3_73ieyz</td>\n",
       "      <td>/r/sandiego/comments/73ieyz/best_place_for_gra...</td>\n",
       "      <td>1509189606</td>\n",
       "      <td>3</td>\n",
       "      <td>False</td>\n",
       "      <td>sandiego</td>\n",
       "      <td>t5_2qq2q</td>\n",
       "    </tr>\n",
       "    <tr>\n",
       "      <th>1</th>\n",
       "      <td>PennyBotV2</td>\n",
       "      <td>NaN</td>\n",
       "      <td>flair2-penny1</td>\n",
       "      <td>The Bot</td>\n",
       "      <td>[Salutations! I'm not sure what you said.](htt...</td>\n",
       "      <td>True</td>\n",
       "      <td>0</td>\n",
       "      <td>1506816000</td>\n",
       "      <td>None</td>\n",
       "      <td>0</td>\n",
       "      <td>...</td>\n",
       "      <td>dnqik15</td>\n",
       "      <td>False</td>\n",
       "      <td>t3_73g740</td>\n",
       "      <td>t1_dnqiiv7</td>\n",
       "      <td>/r/RWBY/comments/73g740/ruby_gives_greetings_a...</td>\n",
       "      <td>1509189606</td>\n",
       "      <td>3</td>\n",
       "      <td>False</td>\n",
       "      <td>RWBY</td>\n",
       "      <td>t5_2vhg0</td>\n",
       "    </tr>\n",
       "    <tr>\n",
       "      <th>2</th>\n",
       "      <td>Sir_Firebum</td>\n",
       "      <td>NaN</td>\n",
       "      <td>HOU-wagon</td>\n",
       "      <td>Astros Bandwagon</td>\n",
       "      <td>I got into baseball at about he same time Matt...</td>\n",
       "      <td>True</td>\n",
       "      <td>0</td>\n",
       "      <td>1506816000</td>\n",
       "      <td>None</td>\n",
       "      <td>0</td>\n",
       "      <td>...</td>\n",
       "      <td>dnqik16</td>\n",
       "      <td>False</td>\n",
       "      <td>t3_73hlwn</td>\n",
       "      <td>t1_dnqc3lu</td>\n",
       "      <td>/r/baseball/comments/73hlwn/matt_cain_in_his_f...</td>\n",
       "      <td>1509189606</td>\n",
       "      <td>2</td>\n",
       "      <td>False</td>\n",
       "      <td>baseball</td>\n",
       "      <td>t5_2qm7u</td>\n",
       "    </tr>\n",
       "    <tr>\n",
       "      <th>3</th>\n",
       "      <td>deanzynut</td>\n",
       "      <td>NaN</td>\n",
       "      <td>woodcutting</td>\n",
       "      <td>99 wcing btw</td>\n",
       "      <td>FUCKING TORY</td>\n",
       "      <td>True</td>\n",
       "      <td>0</td>\n",
       "      <td>1506816000</td>\n",
       "      <td>None</td>\n",
       "      <td>0</td>\n",
       "      <td>...</td>\n",
       "      <td>dnqik17</td>\n",
       "      <td>True</td>\n",
       "      <td>t3_73gw9b</td>\n",
       "      <td>t1_dnqdo99</td>\n",
       "      <td>/r/2007scape/comments/73gw9b/carls_platebody/d...</td>\n",
       "      <td>1509189606</td>\n",
       "      <td>18</td>\n",
       "      <td>False</td>\n",
       "      <td>2007scape</td>\n",
       "      <td>t5_2wbww</td>\n",
       "    </tr>\n",
       "    <tr>\n",
       "      <th>4</th>\n",
       "      <td>OfullOstomacheO</td>\n",
       "      <td>NaN</td>\n",
       "      <td>None</td>\n",
       "      <td>None</td>\n",
       "      <td>I see a water dragon</td>\n",
       "      <td>True</td>\n",
       "      <td>0</td>\n",
       "      <td>1506816000</td>\n",
       "      <td>None</td>\n",
       "      <td>0</td>\n",
       "      <td>...</td>\n",
       "      <td>dnqik18</td>\n",
       "      <td>False</td>\n",
       "      <td>t3_73i6z3</td>\n",
       "      <td>t3_73i6z3</td>\n",
       "      <td>/r/mildlyinteresting/comments/73i6z3/this_bric...</td>\n",
       "      <td>1509189606</td>\n",
       "      <td>1</td>\n",
       "      <td>False</td>\n",
       "      <td>mildlyinteresting</td>\n",
       "      <td>t5_2ti4h</td>\n",
       "    </tr>\n",
       "  </tbody>\n",
       "</table>\n",
       "<p>5 rows × 21 columns</p>\n",
       "</div>"
      ],
      "text/plain": [
       "            author  author_cakeday author_flair_css_class author_flair_text  \\\n",
       "0         Dethcola             NaN                               Clairemont   \n",
       "1       PennyBotV2             NaN          flair2-penny1           The Bot   \n",
       "2      Sir_Firebum             NaN              HOU-wagon  Astros Bandwagon   \n",
       "3        deanzynut             NaN            woodcutting      99 wcing btw   \n",
       "4  OfullOstomacheO             NaN                   None              None   \n",
       "\n",
       "                                                body  can_gild  \\\n",
       "0                                           A quarry      True   \n",
       "1  [Salutations! I'm not sure what you said.](htt...      True   \n",
       "2  I got into baseball at about he same time Matt...      True   \n",
       "3                                       FUCKING TORY      True   \n",
       "4                              I see a water dragon       True   \n",
       "\n",
       "   controversiality  created_utc distinguished  edited     ...            id  \\\n",
       "0                 0   1506816000          None       0     ...       dnqik14   \n",
       "1                 0   1506816000          None       0     ...       dnqik15   \n",
       "2                 0   1506816000          None       0     ...       dnqik16   \n",
       "3                 0   1506816000          None       0     ...       dnqik17   \n",
       "4                 0   1506816000          None       0     ...       dnqik18   \n",
       "\n",
       "  is_submitter    link_id   parent_id  \\\n",
       "0        False  t3_73ieyz   t3_73ieyz   \n",
       "1        False  t3_73g740  t1_dnqiiv7   \n",
       "2        False  t3_73hlwn  t1_dnqc3lu   \n",
       "3         True  t3_73gw9b  t1_dnqdo99   \n",
       "4        False  t3_73i6z3   t3_73i6z3   \n",
       "\n",
       "                                           permalink retrieved_on  score  \\\n",
       "0  /r/sandiego/comments/73ieyz/best_place_for_gra...   1509189606      3   \n",
       "1  /r/RWBY/comments/73g740/ruby_gives_greetings_a...   1509189606      3   \n",
       "2  /r/baseball/comments/73hlwn/matt_cain_in_his_f...   1509189606      2   \n",
       "3  /r/2007scape/comments/73gw9b/carls_platebody/d...   1509189606     18   \n",
       "4  /r/mildlyinteresting/comments/73i6z3/this_bric...   1509189606      1   \n",
       "\n",
       "   stickied          subreddit subreddit_id  \n",
       "0     False           sandiego     t5_2qq2q  \n",
       "1     False               RWBY     t5_2vhg0  \n",
       "2     False           baseball     t5_2qm7u  \n",
       "3     False          2007scape     t5_2wbww  \n",
       "4     False  mildlyinteresting     t5_2ti4h  \n",
       "\n",
       "[5 rows x 21 columns]"
      ]
     },
     "execution_count": 2,
     "metadata": {},
     "output_type": "execute_result"
    }
   ],
   "source": [
    "## Leemos la data\n",
    "\n",
    "file_name = 'sample_data.json'\n",
    "\n",
    "entry_df = pd.read_json(file_name,lines = True)\n",
    "entry_df.head()"
   ]
  },
  {
   "cell_type": "code",
   "execution_count": 3,
   "metadata": {},
   "outputs": [
    {
     "data": {
      "text/html": [
       "<div>\n",
       "<style scoped>\n",
       "    .dataframe tbody tr th:only-of-type {\n",
       "        vertical-align: middle;\n",
       "    }\n",
       "\n",
       "    .dataframe tbody tr th {\n",
       "        vertical-align: top;\n",
       "    }\n",
       "\n",
       "    .dataframe thead th {\n",
       "        text-align: right;\n",
       "    }\n",
       "</style>\n",
       "<table border=\"1\" class=\"dataframe\">\n",
       "  <thead>\n",
       "    <tr style=\"text-align: right;\">\n",
       "      <th></th>\n",
       "      <th>author_cakeday</th>\n",
       "      <th>body</th>\n",
       "      <th>distinguished</th>\n",
       "      <th>edited</th>\n",
       "      <th>gilded</th>\n",
       "      <th>is_submitter</th>\n",
       "      <th>link_id</th>\n",
       "      <th>parent_id</th>\n",
       "      <th>score</th>\n",
       "      <th>subreddit</th>\n",
       "      <th>subreddit_id</th>\n",
       "    </tr>\n",
       "  </thead>\n",
       "  <tbody>\n",
       "    <tr>\n",
       "      <th>0</th>\n",
       "      <td>NaN</td>\n",
       "      <td>A quarry</td>\n",
       "      <td>None</td>\n",
       "      <td>0</td>\n",
       "      <td>0</td>\n",
       "      <td>False</td>\n",
       "      <td>t3_73ieyz</td>\n",
       "      <td>t3_73ieyz</td>\n",
       "      <td>3</td>\n",
       "      <td>sandiego</td>\n",
       "      <td>t5_2qq2q</td>\n",
       "    </tr>\n",
       "    <tr>\n",
       "      <th>1</th>\n",
       "      <td>NaN</td>\n",
       "      <td>[Salutations! I'm not sure what you said.](htt...</td>\n",
       "      <td>None</td>\n",
       "      <td>0</td>\n",
       "      <td>0</td>\n",
       "      <td>False</td>\n",
       "      <td>t3_73g740</td>\n",
       "      <td>t1_dnqiiv7</td>\n",
       "      <td>3</td>\n",
       "      <td>RWBY</td>\n",
       "      <td>t5_2vhg0</td>\n",
       "    </tr>\n",
       "    <tr>\n",
       "      <th>2</th>\n",
       "      <td>NaN</td>\n",
       "      <td>I got into baseball at about he same time Matt...</td>\n",
       "      <td>None</td>\n",
       "      <td>0</td>\n",
       "      <td>0</td>\n",
       "      <td>False</td>\n",
       "      <td>t3_73hlwn</td>\n",
       "      <td>t1_dnqc3lu</td>\n",
       "      <td>2</td>\n",
       "      <td>baseball</td>\n",
       "      <td>t5_2qm7u</td>\n",
       "    </tr>\n",
       "    <tr>\n",
       "      <th>3</th>\n",
       "      <td>NaN</td>\n",
       "      <td>FUCKING TORY</td>\n",
       "      <td>None</td>\n",
       "      <td>0</td>\n",
       "      <td>0</td>\n",
       "      <td>True</td>\n",
       "      <td>t3_73gw9b</td>\n",
       "      <td>t1_dnqdo99</td>\n",
       "      <td>18</td>\n",
       "      <td>2007scape</td>\n",
       "      <td>t5_2wbww</td>\n",
       "    </tr>\n",
       "    <tr>\n",
       "      <th>4</th>\n",
       "      <td>NaN</td>\n",
       "      <td>I see a water dragon</td>\n",
       "      <td>None</td>\n",
       "      <td>0</td>\n",
       "      <td>0</td>\n",
       "      <td>False</td>\n",
       "      <td>t3_73i6z3</td>\n",
       "      <td>t3_73i6z3</td>\n",
       "      <td>1</td>\n",
       "      <td>mildlyinteresting</td>\n",
       "      <td>t5_2ti4h</td>\n",
       "    </tr>\n",
       "  </tbody>\n",
       "</table>\n",
       "</div>"
      ],
      "text/plain": [
       "   author_cakeday                                               body  \\\n",
       "0             NaN                                           A quarry   \n",
       "1             NaN  [Salutations! I'm not sure what you said.](htt...   \n",
       "2             NaN  I got into baseball at about he same time Matt...   \n",
       "3             NaN                                       FUCKING TORY   \n",
       "4             NaN                              I see a water dragon    \n",
       "\n",
       "  distinguished  edited  gilded  is_submitter    link_id   parent_id  score  \\\n",
       "0          None       0       0         False  t3_73ieyz   t3_73ieyz      3   \n",
       "1          None       0       0         False  t3_73g740  t1_dnqiiv7      3   \n",
       "2          None       0       0         False  t3_73hlwn  t1_dnqc3lu      2   \n",
       "3          None       0       0          True  t3_73gw9b  t1_dnqdo99     18   \n",
       "4          None       0       0         False  t3_73i6z3   t3_73i6z3      1   \n",
       "\n",
       "           subreddit subreddit_id  \n",
       "0           sandiego     t5_2qq2q  \n",
       "1               RWBY     t5_2vhg0  \n",
       "2           baseball     t5_2qm7u  \n",
       "3          2007scape     t5_2wbww  \n",
       "4  mildlyinteresting     t5_2ti4h  "
      ]
     },
     "execution_count": 3,
     "metadata": {},
     "output_type": "execute_result"
    }
   ],
   "source": [
    "## Podemos borrar algunas columnas no relevantes para el analisis\n",
    "\n",
    "entry_df = entry_df.drop(['author','controversiality','author_flair_css_class','author_flair_text','can_gild','created_utc','id','permalink','retrieved_on','stickied'],axis = 1)\n",
    "entry_df.head()"
   ]
  },
  {
   "cell_type": "code",
   "execution_count": 32,
   "metadata": {},
   "outputs": [
    {
     "data": {
      "text/html": [
       "<div>\n",
       "<style scoped>\n",
       "    .dataframe tbody tr th:only-of-type {\n",
       "        vertical-align: middle;\n",
       "    }\n",
       "\n",
       "    .dataframe tbody tr th {\n",
       "        vertical-align: top;\n",
       "    }\n",
       "\n",
       "    .dataframe thead th {\n",
       "        text-align: right;\n",
       "    }\n",
       "</style>\n",
       "<table border=\"1\" class=\"dataframe\">\n",
       "  <thead>\n",
       "    <tr style=\"text-align: right;\">\n",
       "      <th></th>\n",
       "      <th>author_cakeday</th>\n",
       "      <th>body</th>\n",
       "      <th>distinguished</th>\n",
       "      <th>edited</th>\n",
       "      <th>gilded</th>\n",
       "      <th>is_submitter</th>\n",
       "      <th>link_id</th>\n",
       "      <th>parent_id</th>\n",
       "      <th>score</th>\n",
       "      <th>subreddit</th>\n",
       "      <th>subreddit_id</th>\n",
       "    </tr>\n",
       "  </thead>\n",
       "  <tbody>\n",
       "    <tr>\n",
       "      <th>0</th>\n",
       "      <td>NaN</td>\n",
       "      <td>A quarry</td>\n",
       "      <td>None</td>\n",
       "      <td>0</td>\n",
       "      <td>0</td>\n",
       "      <td>False</td>\n",
       "      <td>t3_73ieyz</td>\n",
       "      <td>t3_73ieyz</td>\n",
       "      <td>3</td>\n",
       "      <td>sandiego</td>\n",
       "      <td>t5_2qq2q</td>\n",
       "    </tr>\n",
       "    <tr>\n",
       "      <th>1</th>\n",
       "      <td>NaN</td>\n",
       "      <td>[Salutations! I'm not sure what you said.](htt...</td>\n",
       "      <td>None</td>\n",
       "      <td>0</td>\n",
       "      <td>0</td>\n",
       "      <td>False</td>\n",
       "      <td>t3_73g740</td>\n",
       "      <td>t1_dnqiiv7</td>\n",
       "      <td>3</td>\n",
       "      <td>RWBY</td>\n",
       "      <td>t5_2vhg0</td>\n",
       "    </tr>\n",
       "    <tr>\n",
       "      <th>2</th>\n",
       "      <td>NaN</td>\n",
       "      <td>I got into baseball at about he same time Matt...</td>\n",
       "      <td>None</td>\n",
       "      <td>0</td>\n",
       "      <td>0</td>\n",
       "      <td>False</td>\n",
       "      <td>t3_73hlwn</td>\n",
       "      <td>t1_dnqc3lu</td>\n",
       "      <td>2</td>\n",
       "      <td>baseball</td>\n",
       "      <td>t5_2qm7u</td>\n",
       "    </tr>\n",
       "    <tr>\n",
       "      <th>3</th>\n",
       "      <td>NaN</td>\n",
       "      <td>FUCKING TORY</td>\n",
       "      <td>None</td>\n",
       "      <td>0</td>\n",
       "      <td>0</td>\n",
       "      <td>True</td>\n",
       "      <td>t3_73gw9b</td>\n",
       "      <td>t1_dnqdo99</td>\n",
       "      <td>18</td>\n",
       "      <td>2007scape</td>\n",
       "      <td>t5_2wbww</td>\n",
       "    </tr>\n",
       "    <tr>\n",
       "      <th>4</th>\n",
       "      <td>NaN</td>\n",
       "      <td>I see a water dragon</td>\n",
       "      <td>None</td>\n",
       "      <td>0</td>\n",
       "      <td>0</td>\n",
       "      <td>False</td>\n",
       "      <td>t3_73i6z3</td>\n",
       "      <td>t3_73i6z3</td>\n",
       "      <td>1</td>\n",
       "      <td>mildlyinteresting</td>\n",
       "      <td>t5_2ti4h</td>\n",
       "    </tr>\n",
       "  </tbody>\n",
       "</table>\n",
       "</div>"
      ],
      "text/plain": [
       "   author_cakeday                                               body  \\\n",
       "0             NaN                                           A quarry   \n",
       "1             NaN  [Salutations! I'm not sure what you said.](htt...   \n",
       "2             NaN  I got into baseball at about he same time Matt...   \n",
       "3             NaN                                       FUCKING TORY   \n",
       "4             NaN                              I see a water dragon    \n",
       "\n",
       "  distinguished  edited  gilded  is_submitter    link_id   parent_id  score  \\\n",
       "0          None       0       0         False  t3_73ieyz   t3_73ieyz      3   \n",
       "1          None       0       0         False  t3_73g740  t1_dnqiiv7      3   \n",
       "2          None       0       0         False  t3_73hlwn  t1_dnqc3lu      2   \n",
       "3          None       0       0          True  t3_73gw9b  t1_dnqdo99     18   \n",
       "4          None       0       0         False  t3_73i6z3   t3_73i6z3      1   \n",
       "\n",
       "           subreddit subreddit_id  \n",
       "0           sandiego     t5_2qq2q  \n",
       "1               RWBY     t5_2vhg0  \n",
       "2           baseball     t5_2qm7u  \n",
       "3          2007scape     t5_2wbww  \n",
       "4  mildlyinteresting     t5_2ti4h  "
      ]
     },
     "execution_count": 32,
     "metadata": {},
     "output_type": "execute_result"
    }
   ],
   "source": [
    "## Borramos las filas que tengan como comentario borrado [Deleted]\n",
    "df = entry_df.query('body != \"[deleted]\" and body != \"[removed]\"')\n",
    "\n",
    "df.head()"
   ]
  },
  {
   "cell_type": "code",
   "execution_count": 85,
   "metadata": {},
   "outputs": [],
   "source": [
    "## Buscamos relacion entre comentarios y respuesta entre el dataset\n",
    "## Vamos a tratar de usar PRAW y redditAPI para obtener estas\n",
    "\n"
   ]
  },
  {
   "cell_type": "code",
   "execution_count": 42,
   "metadata": {},
   "outputs": [
    {
     "name": "stdout",
     "output_type": "stream",
     "text": [
      "Matches: \n",
      "[\"[Salutations! I'm not sure what you said.](http://imgur.com/9TtaInH)\"]\n",
      "Matches: \n",
      "['[Original post](https://www.reddit.com/r/EarthPorn/comments/73ig6e/lake_tekapo_new_zealand_oc4288x2848/)', '[^(Learn more about the ImagesOfNetwork, how you can help, and other Frequently Asked Questions)](https://www.reddit.com/r/imagesofnetwork/wiki/faqandinstructions#wiki_what_is_images_of.3F)^, ^or [^(visit us on Discord!)](https://discordapp.com/invite/0tZsejLgM2vzaExR)', '[)[^(\"Remove my post!\")](https://www.reddit.com/r/imagesofnetwork/wiki/faqandinstructions#wiki_remove_my_post) ^| [^(\"The bot got this one wrong!\")](https://www.reddit.com/r/imagesofnetwork/wiki/faqandinstructions#wiki_the_bot_got_this_one_wrong) ^| [^(\"Stop Crossposting My Stuff!\")](https://www.reddit.com/r/imagesofnetwork/wiki/faqandinstructions#wiki_no_really._don.27t_ever_crosspost_me_or_my_subreddit.)  ^(])', '[](#match \"Lake Tekapo\")']\n",
      "Matches: \n",
      "['[/r/raffle_feedback feedback](https://www.reddit.com/r/raffle_feedback/search?q=hstexan&amp;sort=new&amp;restrict_sr=on&amp;t=all)', '[/r/edc_raffle posts](https://www.reddit.com/r/edc_raffle/search?q=author%3Ahstexan&amp;sort=new&amp;restrict_sr=on&amp;t=all)', '[/r/kniferaffle posts](https://www.reddit.com/r/kniferaffle/search?q=author%3Ahstexan&amp;sort=new&amp;restrict_sr=on&amp;t=all)', '[contact the moderators of this subreddit](/message/compose/?to=/r/edc_raffle)']\n",
      "Matches: \n",
      "['[reddit API](https://www.reddit.com/dev/api)']\n",
      "Matches: \n",
      "['[Read more »](https://www.reddit.com/r/worldpowers/wiki/codeofethics#wiki_rng)', '[contact the moderators of this subreddit](/message/compose/?to=/r/worldpowers)']\n",
      "Matches: \n",
      "['[Ice Block](https://media-Hearth.cursecdn.com/avatars/330/731/28.png)** Mage Spell Epic Classic 🐘 ^[HP](http://www.hearthpwn.com/cards/28), ^[HH](http://www.hearthhead.com/cards/ice-block), ^[Wiki](http://hearthstone.gamepedia.com/Ice_Block)', '[PM](https://www.reddit.com/message/compose/?to=hearthscan-bot) ^( me with up to 7 [[cardname]]. )^[About.](https://www.reddit.com/message/compose/?to=hearthscan-bot&amp;message=Tell%20me%20more%20[[info]]&amp;subject=hi)']\n"
     ]
    },
    {
     "data": {
      "text/plain": [
       "0     None\n",
       "1     None\n",
       "2     None\n",
       "3     None\n",
       "4     None\n",
       "5     None\n",
       "6     None\n",
       "7     None\n",
       "8     None\n",
       "9     None\n",
       "10    None\n",
       "11    None\n",
       "12    None\n",
       "13    None\n",
       "14    None\n",
       "15    None\n",
       "16    None\n",
       "17    None\n",
       "18    None\n",
       "19    None\n",
       "20    None\n",
       "21    None\n",
       "22    None\n",
       "23    None\n",
       "24    None\n",
       "25    None\n",
       "26    None\n",
       "27    None\n",
       "28    None\n",
       "29    None\n",
       "31    None\n",
       "32    None\n",
       "33    None\n",
       "34    None\n",
       "35    None\n",
       "36    None\n",
       "38    None\n",
       "39    None\n",
       "40    None\n",
       "41    None\n",
       "42    None\n",
       "43    None\n",
       "44    None\n",
       "46    None\n",
       "47    None\n",
       "48    None\n",
       "49    None\n",
       "50    None\n",
       "51    None\n",
       "52    None\n",
       "Name: body, dtype: object"
      ]
     },
     "execution_count": 42,
     "metadata": {},
     "output_type": "execute_result"
    }
   ],
   "source": [
    "\n",
    "\n",
    "## Vamos a elimitar el formato de hipervinculo en un comentario y agregar una []()\n",
    "\n",
    "def processHyperLink(comment):     \n",
    "    matches = re.findall(r\"\\[.*\\]\\(.*\\)\", comment)                   \n",
    "    if matches:              \n",
    "        print(\"Matches: \")\n",
    "        print(matches)\n",
    "                   \n",
    "\n",
    "df['body'].head(50).apply(processHyperLink)"
   ]
  },
  {
   "cell_type": "code",
   "execution_count": null,
   "metadata": {},
   "outputs": [],
   "source": [
    "comments = []\n",
    "file_object  = open('sample_data.json') \n",
    "for line in file_object:\n",
    "    comments.append(json.loads(line))"
   ]
  },
  {
   "cell_type": "code",
   "execution_count": 24,
   "metadata": {},
   "outputs": [
    {
     "data": {
      "text/plain": [
       "{'author': 'banterbeast',\n",
       " 'author_flair_css_class': 'hibananew',\n",
       " 'author_flair_text': 'mikke121 - XB1 Asia',\n",
       " 'body': 'Drones should be kept the same to ensure consistency. If skins are introduced they could be detected by defenders more easily or blend into the environment more.',\n",
       " 'can_gild': True,\n",
       " 'controversiality': 0,\n",
       " 'created_utc': 1506816014,\n",
       " 'distinguished': None,\n",
       " 'edited': False,\n",
       " 'gilded': 0,\n",
       " 'id': 'dnqike1',\n",
       " 'is_submitter': False,\n",
       " 'link_id': 't3_73i78p',\n",
       " 'parent_id': 't3_73i78p',\n",
       " 'permalink': '/r/Rainbow6/comments/73i78p/drone_skins_from_a_new_alpha_pack/dnqike1/',\n",
       " 'retrieved_on': 1509189612,\n",
       " 'score': 0,\n",
       " 'stickied': False,\n",
       " 'subreddit': 'Rainbow6',\n",
       " 'subreddit_id': 't5_2t1bl'}"
      ]
     },
     "execution_count": 24,
     "metadata": {},
     "output_type": "execute_result"
    }
   ],
   "source": [
    "comments[458]"
   ]
  },
  {
   "cell_type": "code",
   "execution_count": 40,
   "metadata": {},
   "outputs": [],
   "source": [
    "preprocComments = []\n",
    "for item in comments:\n",
    "    if(item['score']>=2 or item['score']<=-2):\n",
    "        preprocComments.append(item)"
   ]
  },
  {
   "cell_type": "code",
   "execution_count": 41,
   "metadata": {},
   "outputs": [
    {
     "data": {
      "text/plain": [
       "5196"
      ]
     },
     "execution_count": 41,
     "metadata": {},
     "output_type": "execute_result"
    }
   ],
   "source": [
    "len(preprocComments)"
   ]
  },
  {
   "cell_type": "code",
   "execution_count": 42,
   "metadata": {},
   "outputs": [],
   "source": [
    "groupedBySubR = {}\n",
    "for item in preprocComments:\n",
    "    if(item['subreddit'] not in groupedBySubR.keys()):\n",
    "        newList = []\n",
    "        newList.append(item)\n",
    "        groupedBySubR[item['subreddit']] = newList\n",
    "    else:\n",
    "        groupedBySubR[item['subreddit']].append(item)"
   ]
  },
  {
   "cell_type": "code",
   "execution_count": 44,
   "metadata": {},
   "outputs": [
    {
     "data": {
      "text/plain": [
       "1561"
      ]
     },
     "execution_count": 44,
     "metadata": {},
     "output_type": "execute_result"
    }
   ],
   "source": [
    "len(groupedBySubR)"
   ]
  },
  {
   "cell_type": "code",
   "execution_count": 52,
   "metadata": {},
   "outputs": [
    {
     "name": "stdout",
     "output_type": "stream",
     "text": [
      "[nltk_data] Downloading package reuters to\n",
      "[nltk_data]     C:\\Users\\Administrator\\AppData\\Roaming\\nltk_data...\n"
     ]
    },
    {
     "data": {
      "text/plain": [
       "True"
      ]
     },
     "execution_count": 52,
     "metadata": {},
     "output_type": "execute_result"
    }
   ],
   "source": [
    "import nltk\n",
    "nltk.download('reuters')"
   ]
  },
  {
   "cell_type": "code",
   "execution_count": 53,
   "metadata": {},
   "outputs": [
    {
     "data": {
      "text/plain": [
       "1720901"
      ]
     },
     "execution_count": 53,
     "metadata": {},
     "output_type": "execute_result"
    }
   ],
   "source": [
    "from nltk.corpus import reuters\n",
    "len(reuters.words())"
   ]
  },
  {
   "cell_type": "code",
   "execution_count": 54,
   "metadata": {},
   "outputs": [
    {
     "data": {
      "text/plain": [
       "7769"
      ]
     },
     "execution_count": 54,
     "metadata": {},
     "output_type": "execute_result"
    }
   ],
   "source": [
    "files = [f for f in reuters.fileids() if 'training' in f]\n",
    "corpus = [reuters.raw(fileids=[f]) for f in files]\n",
    "len(corpus)"
   ]
  },
  {
   "cell_type": "code",
   "execution_count": 55,
   "metadata": {},
   "outputs": [
    {
     "data": {
      "text/plain": [
       "'BAHIA COCOA REVIEW\\n  Showers continued throughout the week in\\n  the Bahia cocoa zone, alleviating the drought since early\\n  January and improving prospects for the coming temporao,\\n  although normal humidity levels have not been restored,\\n  Comissaria Smith said in its weekly review.\\n      The dry period means the temporao will be late this year.\\n      Arrivals for the week ended February 22 were 155,221 bags\\n  of 60 kilos making a cumulative total for the season of 5.93\\n  mln against 5.81 at the same stage last year. Again it seems\\n  that cocoa delivered earlier on consignment was included in the\\n  arrivals figures.\\n      Comissaria Smith said there is still some doubt as to how\\n  much old crop cocoa is still available as harvesting has\\n  practically come to an end. With total Bahia crop estimates\\n  around 6.4 mln bags and sales standing at almost 6.2 mln there\\n  are a few hundred thousand bags still in the hands of farmers,\\n  middlemen, exporters and processors.\\n      There are doubts as to how much of this cocoa would be fit\\n  for export as shippers are now experiencing dificulties in\\n  obtaining +Bahia superior+ certificates.\\n      In view of the lower quality over recent weeks farmers have\\n  sold a good part of their cocoa held on consignment.\\n      Comissaria Smith said spot bean prices rose to 340 to 350\\n  cruzados per arroba of 15 kilos.\\n      Bean shippers were reluctant to offer nearby shipment and\\n  only limited sales were booked for March shipment at 1,750 to\\n  1,780 dlrs per tonne to ports to be named.\\n      New crop sales were also light and all to open ports with\\n  June/July going at 1,850 and 1,880 dlrs and at 35 and 45 dlrs\\n  under New York july, Aug/Sept at 1,870, 1,875 and 1,880 dlrs\\n  per tonne FOB.\\n      Routine sales of butter were made. March/April sold at\\n  4,340, 4,345 and 4,350 dlrs.\\n      April/May butter went at 2.27 times New York May, June/July\\n  at 4,400 and 4,415 dlrs, Aug/Sept at 4,351 to 4,450 dlrs and at\\n  2.27 and 2.28 times New York Sept and Oct/Dec at 4,480 dlrs and\\n  2.27 times New York Dec, Comissaria Smith said.\\n      Destinations were the U.S., Covertible currency areas,\\n  Uruguay and open ports.\\n      Cake sales were registered at 785 to 995 dlrs for\\n  March/April, 785 dlrs for May, 753 dlrs for Aug and 0.39 times\\n  New York Dec for Oct/Dec.\\n      Buyers were the U.S., Argentina, Uruguay and convertible\\n  currency areas.\\n      Liquor sales were limited with March/April selling at 2,325\\n  and 2,380 dlrs, June/July at 2,375 dlrs and at 1.25 times New\\n  York July, Aug/Sept at 2,400 dlrs and at 1.25 times New York\\n  Sept and Oct/Dec at 1.25 times New York Dec, Comissaria Smith\\n  said.\\n      Total Bahia sales are currently estimated at 6.13 mln bags\\n  against the 1986/87 crop and 1.06 mln bags against the 1987/88\\n  crop.\\n      Final figures for the period to February 28 are expected to\\n  be published by the Brazilian Cocoa Trade Commission after\\n  carnival which ends midday on February 27.\\n  \\n\\n'"
      ]
     },
     "execution_count": 55,
     "metadata": {},
     "output_type": "execute_result"
    }
   ],
   "source": [
    "corpus[0]"
   ]
  },
  {
   "cell_type": "code",
   "execution_count": 56,
   "metadata": {},
   "outputs": [
    {
     "data": {
      "text/plain": [
       "CountVectorizer(analyzer='word', binary=False, decode_error='strict',\n",
       "        dtype=<class 'numpy.int64'>, encoding='utf-8', input='content',\n",
       "        lowercase=True, max_df=1.0, max_features=None, min_df=1,\n",
       "        ngram_range=(1, 1), preprocessor=None, stop_words='english',\n",
       "        strip_accents=None, token_pattern='(?u)\\\\b\\\\w\\\\w+\\\\b',\n",
       "        tokenizer=None, vocabulary=None)"
      ]
     },
     "execution_count": 56,
     "metadata": {},
     "output_type": "execute_result"
    }
   ],
   "source": [
    "from sklearn.feature_extraction.text import CountVectorizer\n",
    "vectorizer = CountVectorizer(stop_words='english')\n",
    "vectorizer"
   ]
  },
  {
   "cell_type": "code",
   "execution_count": 57,
   "metadata": {},
   "outputs": [],
   "source": [
    "X = vectorizer.fit_transform(corpus)"
   ]
  },
  {
   "cell_type": "code",
   "execution_count": 58,
   "metadata": {},
   "outputs": [
    {
     "data": {
      "text/plain": [
       "(7769, 26000)"
      ]
     },
     "execution_count": 58,
     "metadata": {},
     "output_type": "execute_result"
    }
   ],
   "source": [
    "X.shape"
   ]
  },
  {
   "cell_type": "code",
   "execution_count": 59,
   "metadata": {},
   "outputs": [
    {
     "data": {
      "text/plain": [
       "scipy.sparse.csr.csr_matrix"
      ]
     },
     "execution_count": 59,
     "metadata": {},
     "output_type": "execute_result"
    }
   ],
   "source": [
    "type(X)"
   ]
  }
 ],
 "metadata": {
  "kernelspec": {
   "display_name": "Python 3",
   "language": "python",
   "name": "python3"
  },
  "language_info": {
   "codemirror_mode": {
    "name": "ipython",
    "version": 3
   },
   "file_extension": ".py",
   "mimetype": "text/x-python",
   "name": "python",
   "nbconvert_exporter": "python",
   "pygments_lexer": "ipython3",
   "version": "3.6.4"
  }
 },
 "nbformat": 4,
 "nbformat_minor": 2
}
